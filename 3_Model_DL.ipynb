{
 "cells": [
  {
   "cell_type": "code",
   "execution_count": 29,
   "metadata": {},
   "outputs": [],
   "source": [
    "import pandas as pd\n",
    "import datasist as ds\n",
    "import numpy as np\n",
    "from pydub import AudioSegment\n",
    "import math\n",
    "import librosa\n",
    "from sklearn.model_selection import train_test_split\n",
    "import tensorflow.keras as keras\n",
    "import matplotlib.pyplot as plt\n",
    "import librosa.display\n",
    "from sklearn import preprocessing\n",
    "from keras.layers import Dense, Dropout\n",
    "from keras.wrappers.scikit_learn import KerasClassifier\n",
    "from sklearn.model_selection import GridSearchCV\n",
    "from keras.callbacks import EarlyStopping\n",
    "from keras.models import Sequential\n",
    "from keras.layers import Dense\n",
    "from keras.optimizers import Adam\n",
    "from sklearn.metrics import accuracy_score\n",
    "from sklearn.utils import shuffle"
   ]
  },
  {
   "cell_type": "code",
   "execution_count": 30,
   "metadata": {},
   "outputs": [
    {
     "data": {
      "text/html": [
       "<div>\n",
       "<style scoped>\n",
       "    .dataframe tbody tr th:only-of-type {\n",
       "        vertical-align: middle;\n",
       "    }\n",
       "\n",
       "    .dataframe tbody tr th {\n",
       "        vertical-align: top;\n",
       "    }\n",
       "\n",
       "    .dataframe thead th {\n",
       "        text-align: right;\n",
       "    }\n",
       "</style>\n",
       "<table border=\"1\" class=\"dataframe\">\n",
       "  <thead>\n",
       "    <tr style=\"text-align: right;\">\n",
       "      <th></th>\n",
       "      <th>mfcc_1</th>\n",
       "      <th>mfcc_2</th>\n",
       "      <th>mfcc_3</th>\n",
       "      <th>mfcc_4</th>\n",
       "      <th>mfcc_5</th>\n",
       "      <th>mfcc_6</th>\n",
       "      <th>mfcc_7</th>\n",
       "      <th>mfcc_8</th>\n",
       "      <th>mfcc_9</th>\n",
       "      <th>mfcc_10</th>\n",
       "      <th>mfcc_11</th>\n",
       "      <th>mfcc_12</th>\n",
       "      <th>mfcc_13</th>\n",
       "      <th>chroma_stft</th>\n",
       "      <th>spectral_centroid</th>\n",
       "      <th>spectral_bandwidth</th>\n",
       "      <th>rolloff</th>\n",
       "      <th>zero_crossing_rate</th>\n",
       "      <th>label</th>\n",
       "    </tr>\n",
       "  </thead>\n",
       "  <tbody>\n",
       "    <tr>\n",
       "      <td>0</td>\n",
       "      <td>0.282728</td>\n",
       "      <td>-0.474545</td>\n",
       "      <td>-1.431620</td>\n",
       "      <td>-0.838590</td>\n",
       "      <td>-1.296439</td>\n",
       "      <td>-1.893429</td>\n",
       "      <td>-1.771372</td>\n",
       "      <td>-0.975644</td>\n",
       "      <td>-1.693050</td>\n",
       "      <td>-0.905051</td>\n",
       "      <td>-2.385454</td>\n",
       "      <td>-0.195656</td>\n",
       "      <td>-1.897900</td>\n",
       "      <td>-0.203286</td>\n",
       "      <td>0.483809</td>\n",
       "      <td>-0.393816</td>\n",
       "      <td>0.077136</td>\n",
       "      <td>0.846385</td>\n",
       "      <td>1</td>\n",
       "    </tr>\n",
       "    <tr>\n",
       "      <td>1</td>\n",
       "      <td>1.193171</td>\n",
       "      <td>-1.450861</td>\n",
       "      <td>0.000711</td>\n",
       "      <td>-0.790228</td>\n",
       "      <td>1.279287</td>\n",
       "      <td>0.755650</td>\n",
       "      <td>0.901923</td>\n",
       "      <td>1.356368</td>\n",
       "      <td>2.278842</td>\n",
       "      <td>1.350389</td>\n",
       "      <td>1.535524</td>\n",
       "      <td>1.345042</td>\n",
       "      <td>1.197492</td>\n",
       "      <td>1.985103</td>\n",
       "      <td>1.772678</td>\n",
       "      <td>1.661541</td>\n",
       "      <td>1.866492</td>\n",
       "      <td>0.415296</td>\n",
       "      <td>0</td>\n",
       "    </tr>\n",
       "    <tr>\n",
       "      <td>2</td>\n",
       "      <td>-1.034973</td>\n",
       "      <td>0.627078</td>\n",
       "      <td>0.199520</td>\n",
       "      <td>0.998984</td>\n",
       "      <td>-0.784622</td>\n",
       "      <td>1.528109</td>\n",
       "      <td>-0.577994</td>\n",
       "      <td>1.107375</td>\n",
       "      <td>-0.706535</td>\n",
       "      <td>0.982741</td>\n",
       "      <td>-0.397005</td>\n",
       "      <td>-0.912998</td>\n",
       "      <td>0.486108</td>\n",
       "      <td>-1.381268</td>\n",
       "      <td>-0.979375</td>\n",
       "      <td>-1.090882</td>\n",
       "      <td>-1.125755</td>\n",
       "      <td>-1.226060</td>\n",
       "      <td>0</td>\n",
       "    </tr>\n",
       "    <tr>\n",
       "      <td>3</td>\n",
       "      <td>1.384008</td>\n",
       "      <td>0.560417</td>\n",
       "      <td>0.667361</td>\n",
       "      <td>-0.254236</td>\n",
       "      <td>0.610491</td>\n",
       "      <td>0.620806</td>\n",
       "      <td>0.811242</td>\n",
       "      <td>0.099781</td>\n",
       "      <td>-0.245145</td>\n",
       "      <td>1.018141</td>\n",
       "      <td>-0.216337</td>\n",
       "      <td>2.221808</td>\n",
       "      <td>0.605855</td>\n",
       "      <td>0.687013</td>\n",
       "      <td>-0.664155</td>\n",
       "      <td>-0.353625</td>\n",
       "      <td>-0.733579</td>\n",
       "      <td>-0.766253</td>\n",
       "      <td>1</td>\n",
       "    </tr>\n",
       "    <tr>\n",
       "      <td>4</td>\n",
       "      <td>0.934085</td>\n",
       "      <td>2.136934</td>\n",
       "      <td>-2.251532</td>\n",
       "      <td>0.690264</td>\n",
       "      <td>-1.076940</td>\n",
       "      <td>-0.852905</td>\n",
       "      <td>0.001930</td>\n",
       "      <td>-0.603969</td>\n",
       "      <td>0.854139</td>\n",
       "      <td>0.591720</td>\n",
       "      <td>0.474665</td>\n",
       "      <td>-1.057779</td>\n",
       "      <td>0.405189</td>\n",
       "      <td>-1.209908</td>\n",
       "      <td>-1.625381</td>\n",
       "      <td>-1.950325</td>\n",
       "      <td>-1.546935</td>\n",
       "      <td>-1.381914</td>\n",
       "      <td>0</td>\n",
       "    </tr>\n",
       "  </tbody>\n",
       "</table>\n",
       "</div>"
      ],
      "text/plain": [
       "     mfcc_1    mfcc_2    mfcc_3    mfcc_4    mfcc_5    mfcc_6    mfcc_7  \\\n",
       "0  0.282728 -0.474545 -1.431620 -0.838590 -1.296439 -1.893429 -1.771372   \n",
       "1  1.193171 -1.450861  0.000711 -0.790228  1.279287  0.755650  0.901923   \n",
       "2 -1.034973  0.627078  0.199520  0.998984 -0.784622  1.528109 -0.577994   \n",
       "3  1.384008  0.560417  0.667361 -0.254236  0.610491  0.620806  0.811242   \n",
       "4  0.934085  2.136934 -2.251532  0.690264 -1.076940 -0.852905  0.001930   \n",
       "\n",
       "     mfcc_8    mfcc_9   mfcc_10   mfcc_11   mfcc_12   mfcc_13  chroma_stft  \\\n",
       "0 -0.975644 -1.693050 -0.905051 -2.385454 -0.195656 -1.897900    -0.203286   \n",
       "1  1.356368  2.278842  1.350389  1.535524  1.345042  1.197492     1.985103   \n",
       "2  1.107375 -0.706535  0.982741 -0.397005 -0.912998  0.486108    -1.381268   \n",
       "3  0.099781 -0.245145  1.018141 -0.216337  2.221808  0.605855     0.687013   \n",
       "4 -0.603969  0.854139  0.591720  0.474665 -1.057779  0.405189    -1.209908   \n",
       "\n",
       "   spectral_centroid  spectral_bandwidth   rolloff  zero_crossing_rate  label  \n",
       "0           0.483809           -0.393816  0.077136            0.846385      1  \n",
       "1           1.772678            1.661541  1.866492            0.415296      0  \n",
       "2          -0.979375           -1.090882 -1.125755           -1.226060      0  \n",
       "3          -0.664155           -0.353625 -0.733579           -0.766253      1  \n",
       "4          -1.625381           -1.950325 -1.546935           -1.381914      0  "
      ]
     },
     "execution_count": 30,
     "metadata": {},
     "output_type": "execute_result"
    }
   ],
   "source": [
    "df=pd.read_csv('Standardized_Features.csv')\n",
    "df.head()"
   ]
  },
  {
   "cell_type": "markdown",
   "metadata": {},
   "source": [
    "# Train-test split"
   ]
  },
  {
   "cell_type": "code",
   "execution_count": 31,
   "metadata": {},
   "outputs": [],
   "source": [
    "X=df.iloc[:,:13]\n",
    "y=df.iloc[:,-1]\n",
    "y=np.ravel(y)\n",
    "X_train, X_test, y_train, y_test = train_test_split(X, y, test_size=0.10, random_state=42)"
   ]
  },
  {
   "cell_type": "code",
   "execution_count": 32,
   "metadata": {},
   "outputs": [
    {
     "data": {
      "text/plain": [
       "(15507, 13)"
      ]
     },
     "execution_count": 32,
     "metadata": {},
     "output_type": "execute_result"
    }
   ],
   "source": [
    "X_train.shape"
   ]
  },
  {
   "cell_type": "code",
   "execution_count": 33,
   "metadata": {},
   "outputs": [],
   "source": [
    "## Changing dimension for  model\n",
    "x_traincnn =np.expand_dims(X_train, axis=2)\n",
    "x_testcnn= np.expand_dims(X_test, axis=2)"
   ]
  },
  {
   "cell_type": "code",
   "execution_count": 34,
   "metadata": {},
   "outputs": [
    {
     "data": {
      "text/plain": [
       "(15507, 13, 1)"
      ]
     },
     "execution_count": 34,
     "metadata": {},
     "output_type": "execute_result"
    }
   ],
   "source": [
    "x_traincnn.shape"
   ]
  },
  {
   "cell_type": "markdown",
   "metadata": {},
   "source": [
    "# ANN"
   ]
  },
  {
   "cell_type": "code",
   "execution_count": 8,
   "metadata": {},
   "outputs": [],
   "source": [
    "def Model(layers):\n",
    "    model = Sequential()\n",
    "    model.add(Dense(13, activation='relu', input_shape=(13,)))\n",
    "    \n",
    "    for nodes in layers:\n",
    "        model.add(Dense(nodes, activation='relu'))\n",
    "        model.add(Dropout(0.5))\n",
    "           \n",
    "    model.add(Dense(1, activation='sigmoid'))\n",
    "    model.compile(loss='binary_crossentropy', optimizer='adam', metrics=['accuracy'])\n",
    "    return model"
   ]
  },
  {
   "cell_type": "code",
   "execution_count": 9,
   "metadata": {},
   "outputs": [
    {
     "name": "stderr",
     "output_type": "stream",
     "text": [
      "C:\\Users\\Amit\\Anaconda3\\lib\\site-packages\\joblib\\externals\\loky\\process_executor.py:691: UserWarning: A worker stopped while some jobs were given to the executor. This can be caused by a too short worker timeout or by a memory leak.\n",
      "  \"timeout or by a memory leak.\", UserWarning\n"
     ]
    },
    {
     "name": "stdout",
     "output_type": "stream",
     "text": [
      "WARNING:tensorflow:From C:\\Users\\Amit\\Anaconda3\\lib\\site-packages\\tensorflow_core\\python\\ops\\resource_variable_ops.py:1630: calling BaseResourceVariable.__init__ (from tensorflow.python.ops.resource_variable_ops) with constraint is deprecated and will be removed in a future version.\n",
      "Instructions for updating:\n",
      "If using Keras pass *_constraint arguments to layers.\n",
      "WARNING:tensorflow:From C:\\Users\\Amit\\Anaconda3\\lib\\site-packages\\tensorflow_core\\python\\ops\\nn_impl.py:183: where (from tensorflow.python.ops.array_ops) is deprecated and will be removed in a future version.\n",
      "Instructions for updating:\n",
      "Use tf.where in 2.0, which has the same broadcast rule as np.where\n",
      "WARNING:tensorflow:From C:\\Users\\Amit\\Anaconda3\\lib\\site-packages\\keras\\backend\\tensorflow_backend.py:422: The name tf.global_variables is deprecated. Please use tf.compat.v1.global_variables instead.\n",
      "\n",
      "Best: 0.688012 using {'batch_size': 1723, 'epochs': 1000, 'layers': [20]}\n"
     ]
    }
   ],
   "source": [
    "layers=[\n",
    "    # One hidden layer\n",
    "    [12],\n",
    "    [8],\n",
    "    [20],\n",
    "    # Two hidden layers\n",
    "    [12,12],\n",
    "    [8,8],\n",
    "    [20,20],\n",
    "    # Three hidden layers\n",
    "    [12,12,12],\n",
    "    [8,8,8],\n",
    "    [20,20,20],\n",
    "#      # four hidden layers\n",
    "#     [12,12,12,12],\n",
    "#     [8,8,8,8],\n",
    "#     [20,20,20,20]\n",
    "    \n",
    "]\n",
    "model = KerasClassifier(build_fn=Model, verbose=0)\n",
    "#param_grid=dict(layers=layers, batch_size=[1723],epochs=[100,200,500,1000,1500,2000])\n",
    "param_grid=dict(layers=layers, batch_size=[1723],epochs=[1000,1500])\n",
    "grid = GridSearchCV(estimator=model, param_grid=param_grid, n_jobs=-1, cv=5)\n",
    "es = EarlyStopping(monitor='val_loss', mode='min')\n",
    "grid_result = grid.fit(X_train, y_train)\n",
    "# summarize results\n",
    "print(\"Best: %f using %s\" % (grid_result.best_score_, grid_result.best_params_))"
   ]
  },
  {
   "cell_type": "code",
   "execution_count": 21,
   "metadata": {},
   "outputs": [
    {
     "data": {
      "text/plain": [
       "0.6947185142193848"
      ]
     },
     "execution_count": 21,
     "metadata": {},
     "output_type": "execute_result"
    }
   ],
   "source": [
    "y_pred = grid.predict(X_test)\n",
    "accuracy_score(y_test, y_pred)"
   ]
  },
  {
   "cell_type": "code",
   "execution_count": 11,
   "metadata": {},
   "outputs": [
    {
     "name": "stdout",
     "output_type": "stream",
     "text": [
      "Confusion matrix:\n",
      "[[770 168]\n",
      " [358 427]]\n",
      "\n"
     ]
    },
    {
     "data": {
      "image/png": "[encoded data removed]",
      "text/plain": [
       "<Figure size 432x288 with 2 Axes>"
      ]
     },
     "metadata": {
      "needs_background": "light"
     },
     "output_type": "display_data"
    }
   ],
   "source": [
    "from sklearn.metrics import accuracy_score, confusion_matrix\n",
    "clf_cfm = confusion_matrix(y_test, y_pred)\n",
    "print(\"Confusion matrix:\")\n",
    "print(clf_cfm, end='\\n\\n')\n",
    "import matplotlib.pyplot as plt\n",
    "import itertools\n",
    "plt.imshow(clf_cfm, interpolation='nearest')\n",
    "\n",
    "for i, j in itertools.product(range(clf_cfm.shape[0]), range(clf_cfm.shape[1])):\n",
    "    plt.text(j, i, clf_cfm[i, j],\n",
    "             horizontalalignment=\"center\",\n",
    "             color=\"white\")\n",
    "\n",
    "plt.ylabel('True label (Recall)')\n",
    "plt.xlabel('Predicted label (Precision)')\n",
    "plt.title('SVM (Polynomial Kernel)| Confusion Matrix')\n",
    "plt.colorbar();"
   ]
  },
  {
   "cell_type": "code",
   "execution_count": 22,
   "metadata": {},
   "outputs": [
    {
     "name": "stdout",
     "output_type": "stream",
     "text": [
      "Model: \"sequential_4\"\n",
      "_________________________________________________________________\n",
      "Layer (type)                 Output Shape              Param #   \n",
      "=================================================================\n",
      "dense_9 (Dense)              (None, 13)                182       \n",
      "_________________________________________________________________\n",
      "dense_10 (Dense)             (None, 20)                280       \n",
      "_________________________________________________________________\n",
      "dropout_3 (Dropout)          (None, 20)                0         \n",
      "_________________________________________________________________\n",
      "dense_11 (Dense)             (None, 1)                 21        \n",
      "=================================================================\n",
      "Total params: 483\n",
      "Trainable params: 483\n",
      "Non-trainable params: 0\n",
      "_________________________________________________________________\n"
     ]
    }
   ],
   "source": [
    "params = grid_result.best_params_\n",
    "es = EarlyStopping(monitor='val_loss', mode='min')\n",
    "## create the model with the best params found\n",
    "model = Model(layers=params['layers'])\n",
    "\n",
    "## Then train it and display the results\n",
    "history = model.fit(X_train,\n",
    "                    y_train,\n",
    "                    epochs=params['epochs'],\n",
    "                    batch_size=params['batch_size'],\n",
    "                    verbose = 0,\n",
    "                 validation_data=(X_test, y_test),\n",
    "                  shuffle=True,\n",
    "                   callbacks=[es])\n",
    "model.summary()"
   ]
  },
  {
   "cell_type": "code",
   "execution_count": 13,
   "metadata": {},
   "outputs": [
    {
     "data": {
      "image/png": "[encoded data removed]",
      "text/plain": [
       "<Figure size 432x288 with 1 Axes>"
      ]
     },
     "metadata": {
      "needs_background": "light"
     },
     "output_type": "display_data"
    }
   ],
   "source": [
    "plt.plot(history.history['accuracy'])\n",
    "plt.plot(history.history['val_accuracy'])\n",
    "plt.title('model accuracy')\n",
    "plt.ylabel('accuracy')\n",
    "plt.xlabel('epoch')\n",
    "plt.legend(['train', 'test'], loc='upper left')\n",
    "plt.show()"
   ]
  },
  {
   "cell_type": "code",
   "execution_count": 14,
   "metadata": {},
   "outputs": [
    {
     "data": {
      "image/png": "[encoded data removed]",
      "text/plain": [
       "<Figure size 432x288 with 1 Axes>"
      ]
     },
     "metadata": {
      "needs_background": "light"
     },
     "output_type": "display_data"
    }
   ],
   "source": [
    "plt.plot(history.history['loss'])\n",
    "plt.plot(history.history['val_loss'])\n",
    "plt.title('model loss')\n",
    "plt.ylabel('loss')\n",
    "plt.xlabel('epoch')\n",
    "plt.legend(['train', 'test'], loc='upper left')\n",
    "plt.show()"
   ]
  },
  {
   "cell_type": "markdown",
   "metadata": {},
   "source": [
    "# CNN"
   ]
  },
  {
   "cell_type": "code",
   "execution_count": 35,
   "metadata": {},
   "outputs": [],
   "source": [
    "from keras.layers import Dense, Conv1D,Flatten\n",
    "\n",
    "model = Sequential()\n",
    "model.add(Conv1D(32, 3, activation=\"relu\", input_shape=(x_traincnn.shape[1:]),padding='same'))\n",
    "#model.add(MaxPooling1D(pool_size=(16)))\n",
    "model.add(Conv1D(32, 3, activation=\"relu\",padding='same'))\n",
    "model.add(Flatten())\n",
    "model.add(Dense(64, activation=\"relu\"))\n",
    "model.add(Dense(1, activation='sigmoid'))"
   ]
  },
  {
   "cell_type": "code",
   "execution_count": 36,
   "metadata": {},
   "outputs": [
    {
     "name": "stdout",
     "output_type": "stream",
     "text": [
      "Model: \"sequential_6\"\n",
      "_________________________________________________________________\n",
      "Layer (type)                 Output Shape              Param #   \n",
      "=================================================================\n",
      "conv1d_5 (Conv1D)            (None, 13, 32)            128       \n",
      "_________________________________________________________________\n",
      "conv1d_6 (Conv1D)            (None, 13, 32)            3104      \n",
      "_________________________________________________________________\n",
      "flatten_3 (Flatten)          (None, 416)               0         \n",
      "_________________________________________________________________\n",
      "dense_14 (Dense)             (None, 64)                26688     \n",
      "_________________________________________________________________\n",
      "dense_15 (Dense)             (None, 1)                 65        \n",
      "=================================================================\n",
      "Total params: 29,985\n",
      "Trainable params: 29,985\n",
      "Non-trainable params: 0\n",
      "_________________________________________________________________\n"
     ]
    }
   ],
   "source": [
    "model.summary()"
   ]
  },
  {
   "cell_type": "code",
   "execution_count": 17,
   "metadata": {},
   "outputs": [],
   "source": [
    "from keras.optimizers import Adam\n",
    "\n",
    "model.compile(loss='binary_crossentropy', \n",
    "              optimizer= Adam(lr=0.00001, decay=1e-6), \n",
    "              metrics=['accuracy'])\n",
    "\n",
    "es = EarlyStopping(monitor='val_loss', mode='min')\n",
    "history=model.fit(x_traincnn, y_train, \n",
    "          batch_size=9,\n",
    "          epochs=200, \n",
    "          verbose=0,\n",
    "         validation_data=(x_testcnn, y_test),\n",
    "              shuffle=True,\n",
    "                 callbacks=[es])"
   ]
  },
  {
   "cell_type": "code",
   "execution_count": 18,
   "metadata": {},
   "outputs": [
    {
     "data": {
      "image/png": "[encoded data removed]",
      "text/plain": [
       "<Figure size 432x288 with 1 Axes>"
      ]
     },
     "metadata": {
      "needs_background": "light"
     },
     "output_type": "display_data"
    }
   ],
   "source": [
    "plt.plot(history.history['loss'])\n",
    "plt.plot(history.history['val_loss'])\n",
    "plt.title('model loss')\n",
    "plt.ylabel('loss')\n",
    "plt.xlabel('epoch')\n",
    "plt.legend(['train', 'test'], loc='upper left')\n",
    "plt.show()"
   ]
  },
  {
   "cell_type": "code",
   "execution_count": 19,
   "metadata": {},
   "outputs": [
    {
     "data": {
      "image/png": "[encoded data removed]",
      "text/plain": [
       "<Figure size 432x288 with 1 Axes>"
      ]
     },
     "metadata": {
      "needs_background": "light"
     },
     "output_type": "display_data"
    }
   ],
   "source": [
    "plt.plot(history.history['accuracy'])\n",
    "plt.plot(history.history['val_accuracy'])\n",
    "plt.title('model accuracy')\n",
    "plt.ylabel('accuracy')\n",
    "plt.xlabel('epoch')\n",
    "plt.legend(['train', 'test'], loc='upper left')\n",
    "plt.show()"
   ]
  }
 ],
 "metadata": {
  "kernelspec": {
   "display_name": "Python 3",
   "language": "python",
   "name": "python3"
  },
  "language_info": {
   "codemirror_mode": {
    "name": "ipython",
    "version": 3
   },
   "file_extension": ".py",
   "mimetype": "text/x-python",
   "name": "python",
   "nbconvert_exporter": "python",
   "pygments_lexer": "ipython3",
   "version": "3.7.4"
  }
 },
 "nbformat": 4,
 "nbformat_minor": 2
}
