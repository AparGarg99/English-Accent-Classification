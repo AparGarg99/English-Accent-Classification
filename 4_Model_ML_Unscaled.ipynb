{
 "cells": [
  {
   "cell_type": "code",
   "execution_count": 1,
   "metadata": {},
   "outputs": [],
   "source": [
    "import pandas as pd\n",
    "import numpy as np\n",
    "from sklearn.model_selection import train_test_split, cross_val_score\n",
    "from sklearn.metrics import accuracy_score, confusion_matrix, classification_report \n",
    "from pycm import ConfusionMatrix\n",
    "from sklearn.linear_model import LogisticRegression\n",
    "from sklearn.tree import DecisionTreeClassifier \n",
    "from sklearn.linear_model import Perceptron\n",
    "from sklearn.ensemble import RandomForestClassifier\n",
    "from sklearn.neural_network import MLPClassifier\n",
    "from sklearn.svm import SVC\n",
    "import pickle\n",
    "import warnings\n",
    "warnings.filterwarnings('ignore')"
   ]
  },
  {
   "cell_type": "code",
   "execution_count": 2,
   "metadata": {},
   "outputs": [
    {
     "data": {
      "text/html": [
       "<div>\n",
       "<style scoped>\n",
       "    .dataframe tbody tr th:only-of-type {\n",
       "        vertical-align: middle;\n",
       "    }\n",
       "\n",
       "    .dataframe tbody tr th {\n",
       "        vertical-align: top;\n",
       "    }\n",
       "\n",
       "    .dataframe thead th {\n",
       "        text-align: right;\n",
       "    }\n",
       "</style>\n",
       "<table border=\"1\" class=\"dataframe\">\n",
       "  <thead>\n",
       "    <tr style=\"text-align: right;\">\n",
       "      <th></th>\n",
       "      <th>mfcc_1</th>\n",
       "      <th>mfcc_2</th>\n",
       "      <th>mfcc_3</th>\n",
       "      <th>mfcc_4</th>\n",
       "      <th>mfcc_5</th>\n",
       "      <th>mfcc_6</th>\n",
       "      <th>mfcc_7</th>\n",
       "      <th>mfcc_8</th>\n",
       "      <th>mfcc_9</th>\n",
       "      <th>mfcc_10</th>\n",
       "      <th>mfcc_11</th>\n",
       "      <th>mfcc_12</th>\n",
       "      <th>mfcc_13</th>\n",
       "      <th>chroma_stft</th>\n",
       "      <th>label</th>\n",
       "    </tr>\n",
       "  </thead>\n",
       "  <tbody>\n",
       "    <tr>\n",
       "      <td>0</td>\n",
       "      <td>-304.234070</td>\n",
       "      <td>94.326431</td>\n",
       "      <td>-7.126974</td>\n",
       "      <td>33.175732</td>\n",
       "      <td>7.065147</td>\n",
       "      <td>-0.331963</td>\n",
       "      <td>-10.314158</td>\n",
       "      <td>2.147586</td>\n",
       "      <td>-2.013190</td>\n",
       "      <td>5.324332</td>\n",
       "      <td>-0.093334</td>\n",
       "      <td>2.562227</td>\n",
       "      <td>1.275930</td>\n",
       "      <td>0.429254</td>\n",
       "      <td>1</td>\n",
       "    </tr>\n",
       "    <tr>\n",
       "      <td>1</td>\n",
       "      <td>-309.019653</td>\n",
       "      <td>79.845779</td>\n",
       "      <td>-5.289888</td>\n",
       "      <td>21.285072</td>\n",
       "      <td>-12.034595</td>\n",
       "      <td>-0.241961</td>\n",
       "      <td>-9.138373</td>\n",
       "      <td>0.444917</td>\n",
       "      <td>-13.440741</td>\n",
       "      <td>2.820725</td>\n",
       "      <td>-14.505177</td>\n",
       "      <td>12.173492</td>\n",
       "      <td>-7.108042</td>\n",
       "      <td>0.442904</td>\n",
       "      <td>1</td>\n",
       "    </tr>\n",
       "    <tr>\n",
       "      <td>2</td>\n",
       "      <td>-379.454376</td>\n",
       "      <td>115.356438</td>\n",
       "      <td>-11.129870</td>\n",
       "      <td>49.783417</td>\n",
       "      <td>-6.287680</td>\n",
       "      <td>4.333356</td>\n",
       "      <td>-10.013806</td>\n",
       "      <td>-10.836457</td>\n",
       "      <td>-21.100973</td>\n",
       "      <td>7.533222</td>\n",
       "      <td>-7.160056</td>\n",
       "      <td>-7.462425</td>\n",
       "      <td>-5.815040</td>\n",
       "      <td>0.404891</td>\n",
       "      <td>1</td>\n",
       "    </tr>\n",
       "    <tr>\n",
       "      <td>3</td>\n",
       "      <td>-276.964905</td>\n",
       "      <td>75.217216</td>\n",
       "      <td>-3.998095</td>\n",
       "      <td>13.369978</td>\n",
       "      <td>4.086710</td>\n",
       "      <td>-6.022980</td>\n",
       "      <td>-14.943695</td>\n",
       "      <td>-17.998863</td>\n",
       "      <td>-26.322065</td>\n",
       "      <td>-2.699209</td>\n",
       "      <td>-13.864196</td>\n",
       "      <td>-7.851540</td>\n",
       "      <td>-11.660230</td>\n",
       "      <td>0.411506</td>\n",
       "      <td>0</td>\n",
       "    </tr>\n",
       "    <tr>\n",
       "      <td>4</td>\n",
       "      <td>-284.207062</td>\n",
       "      <td>81.567101</td>\n",
       "      <td>26.056236</td>\n",
       "      <td>38.064480</td>\n",
       "      <td>14.861828</td>\n",
       "      <td>6.161382</td>\n",
       "      <td>-27.253889</td>\n",
       "      <td>-6.253015</td>\n",
       "      <td>-4.060058</td>\n",
       "      <td>-1.371932</td>\n",
       "      <td>-8.508703</td>\n",
       "      <td>1.715142</td>\n",
       "      <td>5.017691</td>\n",
       "      <td>0.325075</td>\n",
       "      <td>0</td>\n",
       "    </tr>\n",
       "  </tbody>\n",
       "</table>\n",
       "</div>"
      ],
      "text/plain": [
       "       mfcc_1      mfcc_2     mfcc_3     mfcc_4     mfcc_5    mfcc_6  \\\n",
       "0 -304.234070   94.326431  -7.126974  33.175732   7.065147 -0.331963   \n",
       "1 -309.019653   79.845779  -5.289888  21.285072 -12.034595 -0.241961   \n",
       "2 -379.454376  115.356438 -11.129870  49.783417  -6.287680  4.333356   \n",
       "3 -276.964905   75.217216  -3.998095  13.369978   4.086710 -6.022980   \n",
       "4 -284.207062   81.567101  26.056236  38.064480  14.861828  6.161382   \n",
       "\n",
       "      mfcc_7     mfcc_8     mfcc_9   mfcc_10    mfcc_11    mfcc_12    mfcc_13  \\\n",
       "0 -10.314158   2.147586  -2.013190  5.324332  -0.093334   2.562227   1.275930   \n",
       "1  -9.138373   0.444917 -13.440741  2.820725 -14.505177  12.173492  -7.108042   \n",
       "2 -10.013806 -10.836457 -21.100973  7.533222  -7.160056  -7.462425  -5.815040   \n",
       "3 -14.943695 -17.998863 -26.322065 -2.699209 -13.864196  -7.851540 -11.660230   \n",
       "4 -27.253889  -6.253015  -4.060058 -1.371932  -8.508703   1.715142   5.017691   \n",
       "\n",
       "   chroma_stft  label  \n",
       "0     0.429254      1  \n",
       "1     0.442904      1  \n",
       "2     0.404891      1  \n",
       "3     0.411506      0  \n",
       "4     0.325075      0  "
      ]
     },
     "execution_count": 2,
     "metadata": {},
     "output_type": "execute_result"
    }
   ],
   "source": [
    "data=pd.read_csv('Original_Features.csv')\n",
    "data=data.drop(['spectral_centroid','spectral_bandwidth','rolloff','zero_crossing_rate'],axis=1)\n",
    "data.head()"
   ]
  },
  {
   "cell_type": "code",
   "execution_count": 3,
   "metadata": {},
   "outputs": [],
   "source": [
    "labels = ['Logistic Regression', 'Decision Tree (Gini)','Decision Tree (Entropy)', 'SVM Classifier', 'Random Forest','Perceptron', 'MLP Classifier']\n",
    "clf1 = LogisticRegression()\n",
    "clf2=DecisionTreeClassifier(criterion = \"gini\")\n",
    "clf3=DecisionTreeClassifier(criterion = \"entropy\")\n",
    "clf4=SVC()\n",
    "clf5=RandomForestClassifier()\n",
    "clf6=Perceptron()\n",
    "clf7=MLPClassifier()\n",
    "models=[clf1,clf2,clf3,clf4,clf5,clf6,clf7]\n",
    "\n",
    "def train(X,y=data['label']):\n",
    "    for clf, label in zip(models, labels):\n",
    "        scores = cross_val_score(clf, X, y, cv=10,scoring='accuracy')\n",
    "        print(\"Accuracy: %0.2f (+/- %0.2f) [%s]\"\n",
    "              % (scores.mean(), scores.std(), label))"
   ]
  },
  {
   "cell_type": "code",
   "execution_count": 4,
   "metadata": {},
   "outputs": [
    {
     "name": "stdout",
     "output_type": "stream",
     "text": [
      "Accuracy: 0.62 (+/- 0.01) [Logistic Regression]\n",
      "Accuracy: 0.72 (+/- 0.01) [Decision Tree (Gini)]\n",
      "Accuracy: 0.72 (+/- 0.01) [Decision Tree (Entropy)]\n",
      "Accuracy: 0.64 (+/- 0.01) [SVM Classifier]\n",
      "Accuracy: 0.79 (+/- 0.01) [Random Forest]\n",
      "Accuracy: 0.56 (+/- 0.01) [Perceptron]\n",
      "Accuracy: 0.69 (+/- 0.01) [MLP Classifier]\n"
     ]
    }
   ],
   "source": [
    "# On MFCC features only\n",
    "train(data.iloc[:,:13])"
   ]
  },
  {
   "cell_type": "code",
   "execution_count": 5,
   "metadata": {},
   "outputs": [
    {
     "name": "stdout",
     "output_type": "stream",
     "text": [
      "Accuracy: 0.55 (+/- 0.00) [Logistic Regression]\n",
      "Accuracy: 0.58 (+/- 0.01) [Decision Tree (Gini)]\n",
      "Accuracy: 0.58 (+/- 0.01) [Decision Tree (Entropy)]\n",
      "Accuracy: 0.55 (+/- 0.00) [SVM Classifier]\n",
      "Accuracy: 0.61 (+/- 0.01) [Random Forest]\n",
      "Accuracy: 0.52 (+/- 0.05) [Perceptron]\n",
      "Accuracy: 0.54 (+/- 0.03) [MLP Classifier]\n"
     ]
    }
   ],
   "source": [
    "# On All features except MFCC\n",
    "train(data.iloc[:,13:-1])"
   ]
  },
  {
   "cell_type": "code",
   "execution_count": 6,
   "metadata": {},
   "outputs": [
    {
     "name": "stdout",
     "output_type": "stream",
     "text": [
      "Accuracy: 0.61 (+/- 0.01) [Logistic Regression]\n",
      "Accuracy: 0.72 (+/- 0.01) [Decision Tree (Gini)]\n",
      "Accuracy: 0.73 (+/- 0.01) [Decision Tree (Entropy)]\n",
      "Accuracy: 0.55 (+/- 0.00) [SVM Classifier]\n",
      "Accuracy: 0.79 (+/- 0.01) [Random Forest]\n",
      "Accuracy: 0.53 (+/- 0.04) [Perceptron]\n",
      "Accuracy: 0.55 (+/- 0.06) [MLP Classifier]\n"
     ]
    }
   ],
   "source": [
    "# On All features\n",
    "train(data.iloc[:,:-1])"
   ]
  }
 ],
 "metadata": {
  "kernelspec": {
   "display_name": "Python 3",
   "language": "python",
   "name": "python3"
  },
  "language_info": {
   "codemirror_mode": {
    "name": "ipython",
    "version": 3
   },
   "file_extension": ".py",
   "mimetype": "text/x-python",
   "name": "python",
   "nbconvert_exporter": "python",
   "pygments_lexer": "ipython3",
   "version": "3.7.4"
  }
 },
 "nbformat": 4,
 "nbformat_minor": 2
}
